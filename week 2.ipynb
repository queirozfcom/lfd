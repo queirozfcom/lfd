{
 "cells": [
  {
   "cell_type": "code",
   "execution_count": 1,
   "metadata": {
    "collapsed": false
   },
   "outputs": [],
   "source": [
    "import numpy as np\n",
    "import scipy.stats as st\n",
    "from tqdm import *\n",
    "from sklearn import datasets, linear_model\n",
    "import matplotlib\n",
    "from matplotlib import pyplot as plt\n",
    "\n",
    "%matplotlib inline"
   ]
  },
  {
   "cell_type": "code",
   "execution_count": 2,
   "metadata": {
    "collapsed": true
   },
   "outputs": [],
   "source": [
    "tot_v1 = 0\n",
    "tot_vrand = 0\n",
    "tot_vmin = 0"
   ]
  },
  {
   "cell_type": "code",
   "execution_count": 3,
   "metadata": {
    "collapsed": false
   },
   "outputs": [
    {
     "name": "stderr",
     "output_type": "stream",
     "text": [
      "100%|██████████| 1000/1000 [02:59<00:00,  5.63it/s]"
     ]
    },
    {
     "name": "stdout",
     "output_type": "stream",
     "text": [
      "0.5001\n",
      "0.5004\n",
      "0.0417\n"
     ]
    },
    {
     "name": "stderr",
     "output_type": "stream",
     "text": [
      "\n"
     ]
    }
   ],
   "source": [
    "num_runs = 1000\n",
    "num_coins = 1000\n",
    "num_flips = 10\n",
    " \n",
    "for n in tqdm(xrange(num_runs)):\n",
    "    coins = []\n",
    "    for i in xrange(num_coins):\n",
    "        coins.append([])\n",
    "        for j in xrange(num_flips):\n",
    "            coins[i].append([])\n",
    "            coins[i][j] = np.random.choice(2,1)\n",
    "    \n",
    "    ndarr = np.array(coins).reshape(1000,10)\n",
    "    random_num = np.random.randint(low=0,high=999,size=1)[0]\n",
    "    \n",
    "    v1 = ndarr[0]\n",
    "    tot_v1 += v1[v1 == 1].size / float(10)\n",
    "    \n",
    "    vrand = ndarr[random_num]\n",
    "    tot_vrand += vrand[vrand == 1].size / float(10)\n",
    "    \n",
    "    tot_vmin += np.min([x.sum() for x in ndarr]) / float(10)\n",
    "    \n",
    "print tot_v1 / float(num_runs)\n",
    "print tot_vrand / float(num_runs)    \n",
    "print tot_vmin / float(num_runs)    "
   ]
  },
  {
   "cell_type": "code",
   "execution_count": 4,
   "metadata": {
    "collapsed": false
   },
   "outputs": [
    {
     "data": {
      "text/plain": [
       "0"
      ]
     },
     "execution_count": 4,
     "metadata": {},
     "output_type": "execute_result"
    }
   ],
   "source": [
    "row = ndarr[0]\n",
    "row[row == 1].size / float(10)\n",
    "\n",
    "np.min([x.sum() for x in ndarr])\n"
   ]
  },
  {
   "cell_type": "code",
   "execution_count": 5,
   "metadata": {
    "collapsed": false
   },
   "outputs": [
    {
     "data": {
      "text/plain": [
       "array([483])"
      ]
     },
     "execution_count": 5,
     "metadata": {},
     "output_type": "execute_result"
    }
   ],
   "source": [
    "np.random.randint(low=0,high=999,size=1)"
   ]
  },
  {
   "cell_type": "code",
   "execution_count": 29,
   "metadata": {
    "collapsed": false
   },
   "outputs": [],
   "source": [
    "def make_fx(x1,y1,x2,y2):\n",
    "    slope = (y2-y1) / float(x2-x1)\n",
    "    intercept = y1 - slope * x1  \n",
    "   \n",
    "    def func(x):\n",
    "        return slope * x + intercept\n",
    "    \n",
    "    print \"func is {0}x + {1}\".format(slope,intercept)\n",
    "    \n",
    "    return (func,slope,intercept)\n",
    "    "
   ]
  },
  {
   "cell_type": "code",
   "execution_count": 206,
   "metadata": {
    "collapsed": true
   },
   "outputs": [],
   "source": [
    "# assign a label to every sample, depending on whether\n",
    "# the y is above or below the actual y given by the target function\n",
    "def mk_dataset(target_func,inputs):\n",
    "    \n",
    "    dataset = []\n",
    "    \n",
    "    for input_sample in inputs:\n",
    "        x = input_sample[0]\n",
    "        y = input_sample[1]\n",
    "        \n",
    "        actual_y = target_func(x)\n",
    "        \n",
    "        if(y > actual_y):\n",
    "            label = 1\n",
    "        else:\n",
    "            label = 0\n",
    "            \n",
    "        dataset.append([x,y,label])    \n",
    "        \n",
    "        \n",
    "    return np.array(dataset).reshape(len(inputs),3)    \n",
    "        "
   ]
  },
  {
   "cell_type": "code",
   "execution_count": 214,
   "metadata": {
    "collapsed": false
   },
   "outputs": [
    {
     "name": "stderr",
     "output_type": "stream",
     "text": [
      "100%|██████████| 100/100 [00:00<00:00, 497544.96it/s]\n",
      "  0%|          | 0/1 [00:00<?, ?it/s]\n"
     ]
    },
    {
     "name": "stdout",
     "output_type": "stream",
     "text": [
      "func is 0.98015862568x + -0.74754352049\n",
      "final avg: nan\n"
     ]
    },
    {
     "data": {
      "image/png": "[encoded data removed]",
      "text/plain": [
       "<matplotlib.figure.Figure at 0x7f14e0cb5ed0>"
      ]
     },
     "metadata": {},
     "output_type": "display_data"
    }
   ],
   "source": [
    "N = 100\n",
    "data = []\n",
    "\n",
    "for n in trange(N):\n",
    "    x = np.random.uniform(low=-1,high=1)\n",
    "    y = np.random.uniform(low=-1,high=1)\n",
    "    data.append((x,y))\n",
    "    \n",
    "mat = np.array(data)\n",
    "\n",
    "num_runs = 1\n",
    "\n",
    "f, axarr = plt.subplots(2, sharex=True)\n",
    "\n",
    "gs = []\n",
    "fraction_correct = []\n",
    "\n",
    "for i in trange(num_runs):\n",
    "    \n",
    "    tot_correct = 0\n",
    "    tot_wrong = 0\n",
    "    \n",
    "    (pt1,pt2) = mat[np.random.choice(N,2,replace=False)]\n",
    "      \n",
    "#     print 'points are {0} and {1}'.format(pt1,pt2)    \n",
    "        \n",
    "    (f,m,b) = make_fx(pt1[0],pt1[1],pt2[0],pt2[1])\n",
    "    \n",
    "    xx = np.linspace(-1,1)\n",
    "    yy = m * xx + b\n",
    "    \n",
    "    axarr[0].plot(xx,yy,'k-')\n",
    "          \n",
    "    dataset = mk_dataset(f,mat)\n",
    "\n",
    "    axarr[0].scatter(mat[:,0],mat[:,1],c=dataset[:,2],cmap='Blues')\n",
    "    axarr[1].scatter(mat[:,0],mat[:,1],c=dataset[:,2],cmap='Blues')\n",
    "    \n",
    "    xs = dataset[:,1].reshape(-1,1)\n",
    "    ys = [ f(x) for x in xs ]\n",
    "    \n",
    "    regr = linear_model.LinearRegression()\n",
    "    regr.fit(xs,ys)\n",
    "    \n",
    "    \n",
    "#     print 'learned function had coefficients: {0} and intercept {1}'.format(regr.coef_, regr.intercept_)       \n",
    "        \n",
    "    m = regr.coef_[0]\n",
    "    xx = np.linspace(-1, 1)\n",
    "    yy = m * xx + (regr.intercept_)\n",
    "    \n",
    "    axarr[1].plot(xx,yy,'b--')\n",
    "    \n",
    "    break\n",
    "    \n",
    "    fresh_data = []\n",
    "    \n",
    "    for n in xrange(N):\n",
    "        x = np.random.uniform(low=-1,high=1)\n",
    "        y = np.random.uniform(low=-1,high=1)\n",
    "        fresh_data.append((x,y))\n",
    "  \n",
    "    fresh_mat = np.array(fresh_data)\n",
    "    \n",
    "    fresh_dataset = mk_dataset(f,fresh_mat)\n",
    "    \n",
    "    for (idx,input_row) in enumerate(fresh_dataset):\n",
    "        \n",
    "        x = input_row[0]\n",
    "        y = input_row[1]\n",
    "        label = input_row[2]\n",
    "        \n",
    "        predicted_threshold = regr.predict(np.array([x]).reshape(1,-1))[0]\n",
    "                \n",
    "        actual_threshold = f(x)\n",
    "                   \n",
    "        if(y >= predicted_threshold and y < actual_threshold ):\n",
    "            tot_wrong += 1\n",
    "        elif( y <= predicted_threshold and y > actual_threshold):\n",
    "            tot_wrong += 1\n",
    "        else:\n",
    "            tot_correct += 1\n",
    "            \n",
    "            \n",
    "    frac = tot_correct / float(tot_correct+tot_wrong)        \n",
    "    fraction_correct.append(frac)    \n",
    "    print \"fraction correct was: {0:.3f}\".format(frac)\n",
    "\n",
    "print 'final avg: {0}'.format(np.mean(fraction_correct))\n",
    "    "
   ]
  },
  {
   "cell_type": "code",
   "execution_count": null,
   "metadata": {
    "collapsed": false
   },
   "outputs": [],
   "source": [
    "mat = np.array([[1,1,1,9],[2,2,2,9],[3,3,3,9],[4,4,4,9]])\n",
    "mat[:,[0,1]]\n",
    "\n",
    "regr.predict(np.array([1,0]).reshape(1,-1))\n"
   ]
  },
  {
   "cell_type": "code",
   "execution_count": 98,
   "metadata": {
    "collapsed": false
   },
   "outputs": [],
   "source": []
  },
  {
   "cell_type": "code",
   "execution_count": 190,
   "metadata": {
    "collapsed": false
   },
   "outputs": [
    {
     "name": "stderr",
     "output_type": "stream",
     "text": [
      "100%|██████████| 10000/10000 [00:00<00:00, 739318.90it/s]\n"
     ]
    },
    {
     "name": "stdout",
     "output_type": "stream",
     "text": [
      "total avg: 0.376761542856\n"
     ]
    },
    {
     "data": {
      "text/plain": [
       "(-0.16422461753514911,\n",
       " array([ 0.00133508, -0.00143433,  0.00975664,  0.00404598,  0.00184058]))"
      ]
     },
     "execution_count": 190,
     "metadata": {},
     "output_type": "execute_result"
    }
   ],
   "source": [
    "N = 10000\n",
    "data = []\n",
    "\n",
    "for n in trange(N):\n",
    "    x = np.random.uniform(low=-1,high=1)\n",
    "    y = np.random.uniform(low=-1,high=1)\n",
    "    data.append((x,y))\n",
    "    \n",
    "mat = np.array(data)\n",
    "\n",
    "new_mat = []\n",
    "\n",
    "for input_sample in mat:\n",
    "    x1 = input_sample[0]\n",
    "    x2 = input_sample[1]\n",
    "    \n",
    "    \n",
    "    f = x**2 + y**2 - 0.6\n",
    "    \n",
    "    new_mat.append([x1,x2,x1*x2,x1**2,x2**2,f])\n",
    "    \n",
    "matrix = np.array(new_mat).reshape(N,6)\n",
    "\n",
    "indexes_to_flip = np.random.choice(N,N/10,replace=False)\n",
    "\n",
    "for idx in indexes_to_flip:\n",
    "    matrix[idx][5] = matrix[idx][5] * (-1)\n",
    "\n",
    "xs = matrix[:,[0,1,2,3,4]]\n",
    "ys = matrix[:,5]\n",
    "regr = linear_model.LinearRegression()\n",
    "regr.fit(xs,ys)   \n",
    "\n",
    "errors = []\n",
    "\n",
    "for input_sample in xs:\n",
    "    predicted = regr.predict(input_sample.reshape(1,-1))\n",
    "    x = input_sample[0]\n",
    "    y = input_sample[1]\n",
    "    \n",
    "    actual = x**2 + y**2 - 0.6\n",
    "    \n",
    "    errors.append(np.abs(predicted-actual))\n",
    "    \n",
    "print 'total avg: {0}'.format(np.mean(errors))   \n",
    "\n",
    "regr.intercept_,regr.coef_"
   ]
  },
  {
   "cell_type": "code",
   "execution_count": 123,
   "metadata": {
    "collapsed": false
   },
   "outputs": [
    {
     "name": "stdout",
     "output_type": "stream",
     "text": [
      "total avg: 0.361429828509\n"
     ]
    }
   ],
   "source": [
    " \n",
    "    "
   ]
  }
 ],
 "metadata": {
  "kernelspec": {
   "display_name": "Python 2",
   "language": "python",
   "name": "python2"
  },
  "language_info": {
   "codemirror_mode": {
    "name": "ipython",
    "version": 2
   },
   "file_extension": ".py",
   "mimetype": "text/x-python",
   "name": "python",
   "nbconvert_exporter": "python",
   "pygments_lexer": "ipython2",
   "version": "2.7.6"
  }
 },
 "nbformat": 4,
 "nbformat_minor": 0
}
