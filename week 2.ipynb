{
 "cells": [
  {
   "cell_type": "code",
   "execution_count": 5,
   "metadata": {
    "collapsed": true
   },
   "outputs": [],
   "source": [
    "import numpy as np\n",
    "import scipy.stats as st\n",
    "from tqdm import *"
   ]
  },
  {
   "cell_type": "code",
   "execution_count": 6,
   "metadata": {
    "collapsed": true
   },
   "outputs": [],
   "source": [
    "tot_v1 = 0\n",
    "tot_vrand = 0\n",
    "tot_vmin = 0"
   ]
  },
  {
   "cell_type": "code",
   "execution_count": 7,
   "metadata": {
    "collapsed": false
   },
   "outputs": [
    {
     "name": "stderr",
     "output_type": "stream",
     "text": [
      "100%|██████████| 1000/1000 [03:00<00:00,  5.35it/s]"
     ]
    },
    {
     "name": "stdout",
     "output_type": "stream",
     "text": [
      "0.5063\n",
      "0.5067\n",
      "0.038\n"
     ]
    },
    {
     "name": "stderr",
     "output_type": "stream",
     "text": [
      "\n"
     ]
    }
   ],
   "source": [
    "num_runs = 1000\n",
    "num_coins = 1000\n",
    "num_flips = 10\n",
    " \n",
    "for n in tqdm(xrange(num_runs)):\n",
    "    coins = []\n",
    "    for i in xrange(num_coins):\n",
    "        coins.append([])\n",
    "        for j in xrange(num_flips):\n",
    "            coins[i].append([])\n",
    "            coins[i][j] = np.random.choice(2,1)\n",
    "    \n",
    "    ndarr = np.array(coins).reshape(1000,10)\n",
    "    random_num = np.random.randint(low=0,high=999,size=1)[0]\n",
    "    \n",
    "    v1 = ndarr[0]\n",
    "    tot_v1 += v1[v1 == 1].size / float(10)\n",
    "    \n",
    "    vrand = ndarr[random_num]\n",
    "    tot_vrand += vrand[vrand == 1].size / float(10)\n",
    "    \n",
    "    tot_vmin += np.min([x.sum() for x in ndarr]) / float(10)\n",
    "    \n",
    "print tot_v1 / float(num_runs)\n",
    "print tot_vrand / float(num_runs)    \n",
    "print tot_vmin / float(num_runs)    "
   ]
  },
  {
   "cell_type": "code",
   "execution_count": 51,
   "metadata": {
    "collapsed": false
   },
   "outputs": [
    {
     "data": {
      "text/plain": [
       "1"
      ]
     },
     "execution_count": 51,
     "metadata": {},
     "output_type": "execute_result"
    }
   ],
   "source": [
    "row = ndarr[0]\n",
    "row[row == 1].size / float(10)\n",
    "\n",
    "np.min([x.sum() for x in ndarr])\n"
   ]
  },
  {
   "cell_type": "code",
   "execution_count": 36,
   "metadata": {
    "collapsed": false
   },
   "outputs": [
    {
     "data": {
      "text/plain": [
       "array([736])"
      ]
     },
     "execution_count": 36,
     "metadata": {},
     "output_type": "execute_result"
    }
   ],
   "source": [
    "np.random.randint(low=0,high=999,size=1)"
   ]
  },
  {
   "cell_type": "code",
   "execution_count": null,
   "metadata": {
    "collapsed": true
   },
   "outputs": [],
   "source": []
  }
 ],
 "metadata": {
  "kernelspec": {
   "display_name": "Python 2",
   "language": "python",
   "name": "python2"
  },
  "language_info": {
   "codemirror_mode": {
    "name": "ipython",
    "version": 2
   },
   "file_extension": ".py",
   "mimetype": "text/x-python",
   "name": "python",
   "nbconvert_exporter": "python",
   "pygments_lexer": "ipython2",
   "version": "2.7.6"
  }
 },
 "nbformat": 4,
 "nbformat_minor": 0
}
